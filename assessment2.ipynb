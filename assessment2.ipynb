{
  "nbformat": 4,
  "nbformat_minor": 0,
  "metadata": {
    "colab": {
      "provenance": []
    },
    "kernelspec": {
      "name": "python3",
      "display_name": "Python 3"
    },
    "language_info": {
      "name": "python"
    }
  },
  "cells": [
    {
      "cell_type": "code",
      "execution_count": 1,
      "metadata": {
        "id": "9EC4TDI1Jo-a"
      },
      "outputs": [],
      "source": [
        "import pandas as pd\n",
        "\n",
        "# Load the dataset\n",
        "books = pd.read_csv('books.csv')"
      ]
    },
    {
      "cell_type": "code",
      "source": [
        "books.shape"
      ],
      "metadata": {
        "colab": {
          "base_uri": "https://localhost:8080/"
        },
        "id": "KRGcHZDzKdsD",
        "outputId": "7bc99440-d2de-4410-fcb5-54565e36e708"
      },
      "execution_count": 2,
      "outputs": [
        {
          "output_type": "execute_result",
          "data": {
            "text/plain": [
              "(399, 24)"
            ]
          },
          "metadata": {},
          "execution_count": 2
        }
      ]
    },
    {
      "cell_type": "code",
      "source": [
        "books.describe"
      ],
      "metadata": {
        "colab": {
          "base_uri": "https://localhost:8080/"
        },
        "id": "tVyiXkBZKhah",
        "outputId": "c3d31a6c-7d6a-4a7c-fc61-492e42efc0b5"
      },
      "execution_count": 3,
      "outputs": [
        {
          "output_type": "execute_result",
          "data": {
            "text/plain": [
              "<bound method NDFrame.describe of      book_id  goodreads_book_id  best_book_id   work_id  books_count  \\\n",
              "0         15              48855         48855   3532896          710   \n",
              "1         40              19501         19501   3352398          185   \n",
              "2         81               7445          7445   2944133           92   \n",
              "3         82               1845          1845   3284484          108   \n",
              "4         87               1617          1617    265616          109   \n",
              "..       ...                ...           ...       ...          ...   \n",
              "394     9788           23399022      23399022  42955411           21   \n",
              "395     9847           20685373      20685373  40000267           18   \n",
              "396     9887             503248        503248    491309           21   \n",
              "397     9960             127970        127970   1066433           26   \n",
              "398     9968             554674        554674    548132           34   \n",
              "\n",
              "           isbn        isbn13  \\\n",
              "0     553296981  9.780553e+12   \n",
              "1     143038419  9.780143e+12   \n",
              "2    074324754X  9.780743e+12   \n",
              "3     385486804  9.780385e+12   \n",
              "4     374500010  9.780375e+12   \n",
              "..          ...           ...   \n",
              "394   525427651  9.780525e+12   \n",
              "395   307720659  9.780308e+12   \n",
              "396   307381269  9.780307e+12   \n",
              "397   739416383  9.780739e+12   \n",
              "398    60005777  9.780060e+12   \n",
              "\n",
              "                                               authors  \\\n",
              "0    Anne Frank, Eleanor Roosevelt, B.M. Mooyaart-D...   \n",
              "1                                    Elizabeth Gilbert   \n",
              "2                                      Jeannette Walls   \n",
              "3                                         Jon Krakauer   \n",
              "4                           Elie Wiesel, Marion Wiesel   \n",
              "..                                                 ...   \n",
              "394  Amanda Berry, Gina DeJesus, Mary Jordan, Kevin...   \n",
              "395                                           Suki Kim   \n",
              "396                      Howard Dully, Charles Fleming   \n",
              "397                                         Terry Ryan   \n",
              "398                            Maria Augusta von Trapp   \n",
              "\n",
              "     original_publication_year  \\\n",
              "0                       1947.0   \n",
              "1                       2006.0   \n",
              "2                       2005.0   \n",
              "3                       1996.0   \n",
              "4                       1958.0   \n",
              "..                         ...   \n",
              "394                     2015.0   \n",
              "395                     2014.0   \n",
              "396                     2007.0   \n",
              "397                     2001.0   \n",
              "398                     1949.0   \n",
              "\n",
              "                                        original_title  ...  \\\n",
              "0    Het Achterhuis: Dagboekbrieven 14 juni 1942 - ...  ...   \n",
              "1    Eat, pray, love: one woman's search for everyt...  ...   \n",
              "2                                     The Glass Castle  ...   \n",
              "3                                        Into the Wild  ...   \n",
              "4                              Un di Velt Hot Geshvign  ...   \n",
              "..                                                 ...  ...   \n",
              "394                                               Hope  ...   \n",
              "395  Without You, There Is No Us: My Time with the ...  ...   \n",
              "396                                        My Lobotomy  ...   \n",
              "397  The Prize Winner of Defiance, Ohio: How My Mot...  ...   \n",
              "398              The Story of the Trapp Family Singers  ...   \n",
              "\n",
              "    work_ratings_count work_text_reviews_count  ratings_1  ratings_2  \\\n",
              "0              2024493                   20825      45225      91270   \n",
              "1              1206597                   49714     100373     149549   \n",
              "2               637866                   40777       7901      18922   \n",
              "3               665377                   17299      19229      35567   \n",
              "4               707879                   22001       7761      18539   \n",
              "..                 ...                     ...        ...        ...   \n",
              "394               9102                     927        101        195   \n",
              "395              10002                    1426        145        523   \n",
              "396               9615                    1247        142        788   \n",
              "397              11151                    1849        118        498   \n",
              "398              10234                     599        297        518   \n",
              "\n",
              "     ratings_3  ratings_4  ratings_5  \\\n",
              "0       355756     656870     875372   \n",
              "1       310212     332191     314272   \n",
              "2        85191     227750     298102   \n",
              "3       135199     248287     227095   \n",
              "4        90575     230227     360777   \n",
              "..         ...        ...        ...   \n",
              "394       1180       3301       4325   \n",
              "395       2526       4328       2480   \n",
              "396       2979       3585       2121   \n",
              "397       2739       4816       2980   \n",
              "398       2345       3406       3668   \n",
              "\n",
              "                                             image_url  \\\n",
              "0    https://images.gr-assets.com/books/1358276407m...   \n",
              "1    https://images.gr-assets.com/books/1503066414m...   \n",
              "2    https://images.gr-assets.com/books/1400930557m...   \n",
              "3    https://images.gr-assets.com/books/1403173986m...   \n",
              "4    https://images.gr-assets.com/books/1473495285m...   \n",
              "..                                                 ...   \n",
              "394  https://images.gr-assets.com/books/1421708177m...   \n",
              "395  https://images.gr-assets.com/books/1405292426m...   \n",
              "396  https://images.gr-assets.com/books/1320449273m...   \n",
              "397  https://s.gr-assets.com/assets/nophoto/book/11...   \n",
              "398  https://s.gr-assets.com/assets/nophoto/book/11...   \n",
              "\n",
              "                                       small_image_url  NonEnglish  \n",
              "0    https://images.gr-assets.com/books/1358276407s...           0  \n",
              "1    https://images.gr-assets.com/books/1503066414s...           0  \n",
              "2    https://images.gr-assets.com/books/1400930557s...           0  \n",
              "3    https://images.gr-assets.com/books/1403173986s...           0  \n",
              "4    https://images.gr-assets.com/books/1473495285s...           0  \n",
              "..                                                 ...         ...  \n",
              "394  https://images.gr-assets.com/books/1421708177s...           0  \n",
              "395  https://images.gr-assets.com/books/1405292426s...           0  \n",
              "396  https://images.gr-assets.com/books/1320449273s...           0  \n",
              "397  https://s.gr-assets.com/assets/nophoto/book/50...           0  \n",
              "398  https://s.gr-assets.com/assets/nophoto/book/50...           0  \n",
              "\n",
              "[399 rows x 24 columns]>"
            ]
          },
          "metadata": {},
          "execution_count": 3
        }
      ]
    },
    {
      "cell_type": "code",
      "source": [
        "  # Q1: Number of rows and columns\n",
        "rows, columns = books.shape\n",
        "print(f\"Q1: Rows = {rows}, Columns = {columns}\")"
      ],
      "metadata": {
        "colab": {
          "base_uri": "https://localhost:8080/"
        },
        "id": "Vi5X1CQ3KYMt",
        "outputId": "83648902-df01-403d-b55d-ebe046645cc9"
      },
      "execution_count": 4,
      "outputs": [
        {
          "output_type": "stream",
          "name": "stdout",
          "text": [
            "Q1: Rows = 399, Columns = 24\n"
          ]
        }
      ]
    },
    {
      "cell_type": "code",
      "source": [
        "# Q2: Number of books without an original title\n",
        "books_without_original_title = books['original_title'].isnull().sum()\n",
        "print(f\"Q2: Number of books without an original title = {books_without_original_title}\")"
      ],
      "metadata": {
        "colab": {
          "base_uri": "https://localhost:8080/"
        },
        "id": "aIOb020zKb55",
        "outputId": "87f0929c-2536-49d7-f04c-1e407851308c"
      },
      "execution_count": 5,
      "outputs": [
        {
          "output_type": "stream",
          "name": "stdout",
          "text": [
            "Q2: Number of books without an original title = 36\n"
          ]
        }
      ]
    },
    {
      "cell_type": "code",
      "source": [
        "# Q3: Number of unique books based on 'book_id' after removing null values in 'original_title'\n",
        "dfRemovedNull=books.dropna(subset=['original_title'])\n",
        "uniqueBooks=dfRemovedNull['book_id'].nunique()\n",
        "print(f\"Q3: Number of unique books = {uniqueBooks}\")"
      ],
      "metadata": {
        "colab": {
          "base_uri": "https://localhost:8080/"
        },
        "id": "a4sGkbofKqdP",
        "outputId": "e9b714f4-6930-4e39-c8f1-6cc4f2d12051"
      },
      "execution_count": 10,
      "outputs": [
        {
          "output_type": "stream",
          "name": "stdout",
          "text": [
            "Q3: Number of unique books = 363\n"
          ]
        }
      ]
    },
    {
      "cell_type": "code",
      "source": [
        "\n",
        "# Q4: Average rating of all books based on 'average_rating'\n",
        "average_rating = books['average_rating'].mean()\n",
        "print(f\"Q4: Average rating of all books = {average_rating}\")"
      ],
      "metadata": {
        "colab": {
          "base_uri": "https://localhost:8080/"
        },
        "id": "aqRwibNkKu6S",
        "outputId": "c2f06197-cc7f-464f-ea27-bb326c56d543"
      },
      "execution_count": 11,
      "outputs": [
        {
          "output_type": "stream",
          "name": "stdout",
          "text": [
            "Q4: Average rating of all books = 3.9837844611528817\n"
          ]
        }
      ]
    },
    {
      "cell_type": "code",
      "source": [
        "# Q5: Number of books published in the year 2000\n",
        "books_2000 = books[books['original_publication_year'] == 2000].shape[0]\n",
        "print(f\"Q5: Number of books published in the year 2000 = {books_2000}\")"
      ],
      "metadata": {
        "colab": {
          "base_uri": "https://localhost:8080/"
        },
        "id": "6luKsz4fKzDz",
        "outputId": "084287a9-00fe-40de-8f17-753206a089e6"
      },
      "execution_count": null,
      "outputs": [
        {
          "output_type": "stream",
          "name": "stdout",
          "text": [
            "Q5: Number of books published in the year 2000 = 8\n"
          ]
        }
      ]
    },
    {
      "cell_type": "code",
      "source": [
        "# Q6: Book with the maximum number of ratings based on 'work_ratings_count'\n",
        "max_ratings_book = books.loc[books['work_ratings_count'].idxmax()]['title']\n",
        "print(f\"Q6: Book with the maximum number of ratings = {max_ratings_book}\")\n"
      ],
      "metadata": {
        "colab": {
          "base_uri": "https://localhost:8080/"
        },
        "id": "pUeUOt5NK2t-",
        "outputId": "e4e0e556-ca44-4c0a-9d01-209db69cf646"
      },
      "execution_count": null,
      "outputs": [
        {
          "output_type": "stream",
          "name": "stdout",
          "text": [
            "Q6: Book with the maximum number of ratings = The Diary of a Young Girl\n"
          ]
        }
      ]
    },
    {
      "cell_type": "code",
      "source": [
        "# Q7: Bucket average_rating and plot a bar graph\n",
        "rating_buckets = [0, 0.5, 1.0, 1.5, 2.0, 2.5, 3.0, 3.5, 4.0, 4.5, 5.0]\n",
        "books['rating_bucket'] = pd.cut(books['average_rating'], bins=rating_buckets, right=False)\n",
        "rating_counts = books['rating_bucket'].value_counts().sort_index()\n"
      ],
      "metadata": {
        "id": "LtD4-6OIK6Dm"
      },
      "execution_count": null,
      "outputs": []
    },
    {
      "cell_type": "code",
      "source": [
        "# Plot bar graph\n",
        "import matplotlib.pyplot as plt\n",
        "\n",
        "plt.bar(rating_counts.index.astype(str), rating_counts.values)\n",
        "plt.xlabel('Rating Bucket')\n",
        "plt.ylabel('Number of Books')\n",
        "plt.title('Number of Books in Each Rating Bucket')\n",
        "plt.show()"
      ],
      "metadata": {
        "colab": {
          "base_uri": "https://localhost:8080/",
          "height": 472
        },
        "id": "bpK1u2TGK-2k",
        "outputId": "659ffdea-90e5-4692-be1a-78c3968812b3"
      },
      "execution_count": null,
      "outputs": [
        {
          "output_type": "display_data",
          "data": {
            "text/plain": [
              "<Figure size 640x480 with 1 Axes>"
            ],
            "image/png": "[encoded data removed]"
          },
          "metadata": {}
        }
      ]
    },
    {
      "cell_type": "code",
      "source": [],
      "metadata": {
        "id": "c3GMyFXMLCGJ"
      },
      "execution_count": null,
      "outputs": []
    }
  ]
}